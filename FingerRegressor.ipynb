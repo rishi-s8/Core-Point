{
 "cells": [
  {
   "cell_type": "code",
   "execution_count": 4,
   "metadata": {},
   "outputs": [
    {
     "name": "stderr",
     "output_type": "stream",
     "text": [
      "Using TensorFlow backend.\n"
     ]
    },
    {
     "ename": "ModuleNotFoundError",
     "evalue": "No module named 'sklearn.cross_validation'",
     "output_type": "error",
     "traceback": [
      "\u001b[0;31m---------------------------------------------------------------------------\u001b[0m",
      "\u001b[0;31mModuleNotFoundError\u001b[0m                       Traceback (most recent call last)",
      "\u001b[0;32m<ipython-input-4-e1e6a0ca3003>\u001b[0m in \u001b[0;36m<module>\u001b[0;34m\u001b[0m\n\u001b[1;32m     13\u001b[0m \u001b[0;32mimport\u001b[0m \u001b[0mnumpy\u001b[0m\u001b[0;34m.\u001b[0m\u001b[0mrandom\u001b[0m \u001b[0;32mas\u001b[0m \u001b[0mrng\u001b[0m\u001b[0;34m\u001b[0m\u001b[0;34m\u001b[0m\u001b[0m\n\u001b[1;32m     14\u001b[0m \u001b[0;32mfrom\u001b[0m \u001b[0msklearn\u001b[0m\u001b[0;34m.\u001b[0m\u001b[0mutils\u001b[0m \u001b[0;32mimport\u001b[0m \u001b[0mshuffle\u001b[0m\u001b[0;34m\u001b[0m\u001b[0;34m\u001b[0m\u001b[0m\n\u001b[0;32m---> 15\u001b[0;31m \u001b[0;32mfrom\u001b[0m \u001b[0msklearn\u001b[0m\u001b[0;34m.\u001b[0m\u001b[0mcross_validation\u001b[0m \u001b[0;32mimport\u001b[0m \u001b[0mtrain_test_split\u001b[0m\u001b[0;34m\u001b[0m\u001b[0;34m\u001b[0m\u001b[0m\n\u001b[0m\u001b[1;32m     16\u001b[0m \u001b[0;32mimport\u001b[0m \u001b[0mmatplotlib\u001b[0m\u001b[0;34m.\u001b[0m\u001b[0mpyplot\u001b[0m \u001b[0;32mas\u001b[0m \u001b[0mplt\u001b[0m\u001b[0;34m\u001b[0m\u001b[0;34m\u001b[0m\u001b[0m\n",
      "\u001b[0;31mModuleNotFoundError\u001b[0m: No module named 'sklearn.cross_validation'"
     ]
    }
   ],
   "source": [
    "import os, sys\n",
    "import cv2\n",
    "from keras.layers.core import *\n",
    "from keras.layers import  Input,Dense,Flatten,Dropout,merge,Reshape,Conv2D,MaxPooling2D,UpSampling2D,Conv2DTranspose,ZeroPadding2D, Add\n",
    "from keras.layers.normalization import BatchNormalization\n",
    "from keras.models import Model,Sequential,load_model\n",
    "from keras.callbacks import ModelCheckpoint\n",
    "from keras.optimizers import Adadelta, RMSprop,SGD,Adam\n",
    "from keras import regularizers\n",
    "from keras import backend as K\n",
    "import numpy as np\n",
    "import scipy\n",
    "import numpy.random as rng\n",
    "from sklearn.utils import shuffle\n",
    "from sklearn.cross_validation import train_test_split\n",
    "import matplotlib.pyplot as plt"
   ]
  },
  {
   "cell_type": "code",
   "execution_count": null,
   "metadata": {},
   "outputs": [],
   "source": [
    "def Regressor(input_img):\n",
    "\t#merg1 = merge([input_img, decoded], mode='concat', concat_axis=3, name = \"merge_r1\")\n",
    "\treg_conv1_1 = Conv2D(16, (3, 3), activation='relu', padding='same', name = \"block1_conv1\")(merg1)\n",
    "\treg_conv1_1 = BatchNormalization()(reg_conv1_1)\n",
    "\treg_conv1_2 = Conv2D(16, (3, 3), activation='relu', padding='same',  name = \"block1_conv2\")(reg_conv1_1)\n",
    "\treg_conv1_2 = BatchNormalization()(reg_conv1_2)\n",
    "\treg_pool1 = MaxPooling2D(pool_size=(2, 2),strides=(2,2),padding='same', name = \"block1_pool1\")(reg_conv1_2)\n",
    "\t\n",
    "\treg_conv2_1 = Conv2D(64, (3, 3), activation='relu', padding='same', name = \"block2_conv1\")(reg_pool1)\n",
    "\treg_conv2_1 = BatchNormalization()(reg_conv2_1)\n",
    "\treg_conv2_2 = Conv2D(64, (3, 3), activation='relu', padding='same', name = \"block2_conv2\")(reg_conv2_1)\n",
    "\treg_conv2_2 = BatchNormalization()(reg_conv2_2)\n",
    "\treg_pool2= MaxPooling2D(pool_size=(2, 2),strides=(2,2), padding='same', name = \"block2_pool1\")(reg_conv2_2)\n",
    "\n",
    "\treg_conv3_1 = Conv2D(128, (3, 3), activation='relu', padding='same', name = \"block3_conv1\")(reg_pool2)\n",
    "\treg_conv3_1 = BatchNormalization()(reg_conv3_1)\n",
    "\treg_conv3_2 = Conv2D(128, (3, 3), activation='relu', padding='same', name = \"block3_conv2\")(reg_conv3_1)\n",
    "\treg_conv3_2 = BatchNormalization()(reg_conv3_2)\n",
    "\treg_pool3 = MaxPooling2D(pool_size=(2, 2),strides=(2,2), padding='same', name = \"block3_pool1\")(reg_conv3_2)\n",
    "    \n",
    "\treg_flat = Flatten()(reg_pool3)\n",
    "\tfc1 = Dense(256, activation='relu')(reg_flat)\n",
    "    fc2 = Dense(64, activation='relu')(fc1)\n",
    "\tfc3 = Dense(16, activation='relu')(fc2)\n",
    "\tfc4 = Dense(2, activation='relu')(fc3)\n",
    "\tregress = Model(inputs = input_img, outputs =  fc4)\n",
    "\treturn regress"
   ]
  },
  {
   "cell_type": "code",
   "execution_count": 2,
   "metadata": {},
   "outputs": [],
   "source": [
    "def load_data():\n",
    "    imagePath = None\n",
    "    maskPath = None\n",
    "    gtPath = None\n",
    "\n",
    "    files = []\n",
    "    if os.path.exists(imagePath) and os.path.exists(maskPath) and os.path.exists(gtPath):\n",
    "        files = os.listdir(imagePath)\n",
    "    else:\n",
    "        sys.exit(\"Invalid Path\")\n",
    "    images = []\n",
    "    masks = []\n",
    "    gt = []\n",
    "    for file in files:\n",
    "        im = cv2.imread(imagePath+file,0)\n",
    "        im = cv2.resize(im, (256,256))\n",
    "        im = np.reshape(im, (256,256,1))\n",
    "        images.append(im)\n",
    "\n",
    "        im = cv2.imread(maskPath+file,0)\n",
    "        im = cv2.resize(im, (256,256))\n",
    "        im = np.reshape(im, (256,256,1))\n",
    "        masks.append(im)\n",
    "\n",
    "        f = open(gtPath+file, 'r')\n",
    "        x, y = map(int(), f.readline().split())\n",
    "        gt.append((x,y))\n",
    "    images = np.array(images)\n",
    "    masks = np.array(masks)\n",
    "    y = np.array(gt)\n",
    "    x = np.dstack(images,masks)\n",
    "    X_train,X_test,Y_train,Y_test=train_test_split(x,y,test_size=0.001)\n",
    "    return X_train, X_test, Y_train, Y_test"
   ]
  },
  {
   "cell_type": "code",
   "execution_count": 3,
   "metadata": {},
   "outputs": [
    {
     "ename": "NameError",
     "evalue": "name 'os' is not defined",
     "output_type": "error",
     "traceback": [
      "\u001b[0;31m---------------------------------------------------------------------------\u001b[0m",
      "\u001b[0;31mNameError\u001b[0m                                 Traceback (most recent call last)",
      "\u001b[0;32m<ipython-input-3-530b4b98ebd1>\u001b[0m in \u001b[0;36m<module>\u001b[0;34m\u001b[0m\n\u001b[0;32m----> 1\u001b[0;31m \u001b[0mX_train\u001b[0m\u001b[0;34m,\u001b[0m \u001b[0mX_test\u001b[0m\u001b[0;34m,\u001b[0m \u001b[0mY_train\u001b[0m\u001b[0;34m,\u001b[0m \u001b[0mY_test\u001b[0m \u001b[0;34m=\u001b[0m \u001b[0mload_data\u001b[0m\u001b[0;34m(\u001b[0m\u001b[0;34m)\u001b[0m\u001b[0;34m\u001b[0m\u001b[0;34m\u001b[0m\u001b[0m\n\u001b[0m",
      "\u001b[0;32m<ipython-input-2-6e22721757e7>\u001b[0m in \u001b[0;36mload_data\u001b[0;34m()\u001b[0m\n\u001b[1;32m      5\u001b[0m \u001b[0;34m\u001b[0m\u001b[0m\n\u001b[1;32m      6\u001b[0m     \u001b[0mfiles\u001b[0m \u001b[0;34m=\u001b[0m \u001b[0;34m[\u001b[0m\u001b[0;34m]\u001b[0m\u001b[0;34m\u001b[0m\u001b[0;34m\u001b[0m\u001b[0m\n\u001b[0;32m----> 7\u001b[0;31m     \u001b[0;32mif\u001b[0m \u001b[0mos\u001b[0m\u001b[0;34m.\u001b[0m\u001b[0mpath\u001b[0m\u001b[0;34m.\u001b[0m\u001b[0mexists\u001b[0m\u001b[0;34m(\u001b[0m\u001b[0mimagePath\u001b[0m\u001b[0;34m)\u001b[0m \u001b[0;32mand\u001b[0m \u001b[0mos\u001b[0m\u001b[0;34m.\u001b[0m\u001b[0mpath\u001b[0m\u001b[0;34m.\u001b[0m\u001b[0mexists\u001b[0m\u001b[0;34m(\u001b[0m\u001b[0mmaskPath\u001b[0m\u001b[0;34m)\u001b[0m \u001b[0;32mand\u001b[0m \u001b[0mos\u001b[0m\u001b[0;34m.\u001b[0m\u001b[0mpath\u001b[0m\u001b[0;34m.\u001b[0m\u001b[0mexists\u001b[0m\u001b[0;34m(\u001b[0m\u001b[0mgtPath\u001b[0m\u001b[0;34m)\u001b[0m\u001b[0;34m:\u001b[0m\u001b[0;34m\u001b[0m\u001b[0;34m\u001b[0m\u001b[0m\n\u001b[0m\u001b[1;32m      8\u001b[0m         \u001b[0mfiles\u001b[0m \u001b[0;34m=\u001b[0m \u001b[0mos\u001b[0m\u001b[0;34m.\u001b[0m\u001b[0mlistdir\u001b[0m\u001b[0;34m(\u001b[0m\u001b[0mimagePath\u001b[0m\u001b[0;34m)\u001b[0m\u001b[0;34m\u001b[0m\u001b[0;34m\u001b[0m\u001b[0m\n\u001b[1;32m      9\u001b[0m     \u001b[0;32melse\u001b[0m\u001b[0;34m:\u001b[0m\u001b[0;34m\u001b[0m\u001b[0;34m\u001b[0m\u001b[0m\n",
      "\u001b[0;31mNameError\u001b[0m: name 'os' is not defined"
     ]
    }
   ],
   "source": [
    "X_train, X_test, Y_train, Y_test = load_data()"
   ]
  },
  {
   "cell_type": "code",
   "execution_count": null,
   "metadata": {},
   "outputs": [],
   "source": [
    "regressorInput = Input((X_train.shape[1], X_train.shape[2], X_train.shape[3]))\n",
    "regressor = Regressor(regressorInput)\n",
    "regressor.compile(optimizer = Adam(0.0005), loss= 'mean_squared_error')\n",
    "regressor.summary()"
   ]
  },
  {
   "cell_type": "code",
   "execution_count": null,
   "metadata": {},
   "outputs": [],
   "source": [
    "batch_size = 128\n",
    "epochs = 5\n",
    "regressor.fit(X_train, Y_train, batch_size=batch_size, epochs=epochs,\n",
    "              validation_data=(X_test,Y_test), shuffle=True, verbose=1) "
   ]
  }
 ],
 "metadata": {
  "kernelspec": {
   "display_name": "Python 3",
   "language": "python",
   "name": "python3"
  },
  "language_info": {
   "codemirror_mode": {
    "name": "ipython",
    "version": 3
   },
   "file_extension": ".py",
   "mimetype": "text/x-python",
   "name": "python",
   "nbconvert_exporter": "python",
   "pygments_lexer": "ipython3",
   "version": "3.6.8"
  }
 },
 "nbformat": 4,
 "nbformat_minor": 2
}
